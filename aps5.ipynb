{
 "cells": [
  {
   "cell_type": "code",
   "execution_count": 16,
   "metadata": {},
   "outputs": [],
   "source": [
    "import scipy.stats as st\n",
    "import numpy as np\n",
    "import matplotlib.pyplot as plt\n",
    "import pandas as pd"
   ]
  },
  {
   "cell_type": "code",
   "execution_count": 17,
   "metadata": {},
   "outputs": [
    {
     "data": {
      "text/html": [
       "<div>\n",
       "<style scoped>\n",
       "    .dataframe tbody tr th:only-of-type {\n",
       "        vertical-align: middle;\n",
       "    }\n",
       "\n",
       "    .dataframe tbody tr th {\n",
       "        vertical-align: top;\n",
       "    }\n",
       "\n",
       "    .dataframe thead th {\n",
       "        text-align: right;\n",
       "    }\n",
       "</style>\n",
       "<table border=\"1\" class=\"dataframe\">\n",
       "  <thead>\n",
       "    <tr style=\"text-align: right;\">\n",
       "      <th></th>\n",
       "      <th>Nome</th>\n",
       "      <th>Acertos</th>\n",
       "      <th>Erros</th>\n",
       "    </tr>\n",
       "  </thead>\n",
       "  <tbody>\n",
       "    <tr>\n",
       "      <th>0</th>\n",
       "      <td>Ana H</td>\n",
       "      <td>6.0</td>\n",
       "      <td>7.0</td>\n",
       "    </tr>\n",
       "    <tr>\n",
       "      <th>1</th>\n",
       "      <td>André</td>\n",
       "      <td>13.0</td>\n",
       "      <td>0.0</td>\n",
       "    </tr>\n",
       "    <tr>\n",
       "      <th>2</th>\n",
       "      <td>Daniel</td>\n",
       "      <td>13.0</td>\n",
       "      <td>0.0</td>\n",
       "    </tr>\n",
       "    <tr>\n",
       "      <th>3</th>\n",
       "      <td>Gustavo</td>\n",
       "      <td>13.0</td>\n",
       "      <td>0.0</td>\n",
       "    </tr>\n",
       "    <tr>\n",
       "      <th>4</th>\n",
       "      <td>Esther</td>\n",
       "      <td>5.0</td>\n",
       "      <td>8.0</td>\n",
       "    </tr>\n",
       "    <tr>\n",
       "      <th>5</th>\n",
       "      <td>Rafaela</td>\n",
       "      <td>9.0</td>\n",
       "      <td>4.0</td>\n",
       "    </tr>\n",
       "    <tr>\n",
       "      <th>6</th>\n",
       "      <td>Henrique J</td>\n",
       "      <td>1.0</td>\n",
       "      <td>12.0</td>\n",
       "    </tr>\n",
       "    <tr>\n",
       "      <th>7</th>\n",
       "      <td>Eduardo</td>\n",
       "      <td>10.0</td>\n",
       "      <td>3.0</td>\n",
       "    </tr>\n",
       "    <tr>\n",
       "      <th>8</th>\n",
       "      <td>Giulia</td>\n",
       "      <td>11.0</td>\n",
       "      <td>2.0</td>\n",
       "    </tr>\n",
       "    <tr>\n",
       "      <th>9</th>\n",
       "      <td>Julia</td>\n",
       "      <td>5.0</td>\n",
       "      <td>8.0</td>\n",
       "    </tr>\n",
       "    <tr>\n",
       "      <th>10</th>\n",
       "      <td>Jonas</td>\n",
       "      <td>3.0</td>\n",
       "      <td>10.0</td>\n",
       "    </tr>\n",
       "    <tr>\n",
       "      <th>11</th>\n",
       "      <td>Henrique T</td>\n",
       "      <td>6.0</td>\n",
       "      <td>7.0</td>\n",
       "    </tr>\n",
       "    <tr>\n",
       "      <th>12</th>\n",
       "      <td>João G</td>\n",
       "      <td>6.0</td>\n",
       "      <td>7.0</td>\n",
       "    </tr>\n",
       "    <tr>\n",
       "      <th>13</th>\n",
       "      <td>Thiago P</td>\n",
       "      <td>13.0</td>\n",
       "      <td>0.0</td>\n",
       "    </tr>\n",
       "  </tbody>\n",
       "</table>\n",
       "</div>"
      ],
      "text/plain": [
       "          Nome  Acertos  Erros\n",
       "0        Ana H      6.0    7.0\n",
       "1        André     13.0    0.0\n",
       "2       Daniel     13.0    0.0\n",
       "3      Gustavo     13.0    0.0\n",
       "4       Esther      5.0    8.0\n",
       "5      Rafaela      9.0    4.0\n",
       "6   Henrique J      1.0   12.0\n",
       "7      Eduardo     10.0    3.0\n",
       "8      Giulia      11.0    2.0\n",
       "9        Julia      5.0    8.0\n",
       "10       Jonas      3.0   10.0\n",
       "11  Henrique T      6.0    7.0\n",
       "12      João G      6.0    7.0\n",
       "13    Thiago P     13.0    0.0"
      ]
     },
     "execution_count": 17,
     "metadata": {},
     "output_type": "execute_result"
    }
   ],
   "source": [
    "notas = pd.read_csv('Dados\\dados_aps5.csv', sep=';')\n",
    "notas = notas.drop(columns=['Unnamed: 3', 'Unnamed: 4', 'Unnamed: 5', 'Unnamed: 6', 'Unnamed: 7', 'Unnamed: 8', 'Unnamed: 9', 'Unnamed: 10', 'Unnamed: 11'])\n",
    "notas = notas.drop([14, 15, 16])\n",
    "\n",
    "notas"
   ]
  },
  {
   "cell_type": "code",
   "execution_count": 18,
   "metadata": {},
   "outputs": [
    {
     "name": "stdout",
     "output_type": "stream",
     "text": [
      "{'Ana H': 0.46153846153846156, 'André': 1.0, 'Daniel': 1.0, 'Gustavo': 1.0, 'Esther': 0.38461538461538464, 'Rafaela': 0.6923076923076923, 'Henrique J': 0.07692307692307693, 'Eduardo': 0.7692307692307693, 'Giulia ': 0.8461538461538461, 'Julia': 0.38461538461538464, 'Jonas': 0.23076923076923078, 'Henrique T': 0.46153846153846156, 'João G': 0.46153846153846156, 'Thiago P': 1.0}\n"
     ]
    }
   ],
   "source": [
    "# Parâmetros\n",
    "media_acertos_amostral = notas['Acertos'].mean()\n",
    "desvio_padrao_acertos_amostral = notas['Acertos'].std()\n",
    "\n",
    "# Probabilidade de cada pessoa acertar\n",
    "prob_acertos = {}\n",
    "qtd_pessoas = len(notas)\n",
    "\n",
    "for i in range(qtd_pessoas):\n",
    "    linha = notas.iloc[i]\n",
    "    pessoa = linha['Nome']\n",
    "    acertos = linha['Acertos']\n",
    "    prob = acertos / 13\n",
    "    prob_acertos[pessoa] = prob\n",
    "\n",
    "media_probs = sum(prob_acertos.values()) / 13\n",
    "desvio_probs = np.std(list(prob_acertos.values()), ddof=1)\n",
    "\n",
    "print(prob_acertos)"
   ]
  },
  {
   "cell_type": "code",
   "execution_count": 19,
   "metadata": {},
   "outputs": [
    {
     "name": "stdout",
     "output_type": "stream",
     "text": [
      "[-0.00551799238308337, 1.3546304184185864]\n"
     ]
    },
    {
     "data": {
      "image/png": "[encoded data removed]",
      "text/plain": [
       "<Figure size 1000x500 with 1 Axes>"
      ]
     },
     "metadata": {},
     "output_type": "display_data"
    }
   ],
   "source": [
    "# T-test - probs\n",
    "a_p = st.t.ppf(0.025, qtd_pessoas - 1, loc=media_probs, scale=desvio_probs)\n",
    "b_p = st.t.ppf(1 - 0.025, qtd_pessoas - 1, loc=media_probs, scale=desvio_probs)\n",
    "\n",
    "# Intervalo de confiança - probs\n",
    "intervalo_confianca = [a_p, b_p]\n",
    "\n",
    "# T-test - acertos\n",
    "a = st.t.ppf(0.025, qtd_pessoas - 1, loc=media_acertos_amostral, scale=desvio_padrao_acertos_amostral)\n",
    "b = st.t.ppf(1 - 0.025, qtd_pessoas - 1, loc=media_acertos_amostral, scale=desvio_padrao_acertos_amostral)\n",
    "\n",
    "# Intervalo de confiança - acertos\n",
    "intervalo_confianca_acertos = [a, b]\n",
    "\n",
    "# Plot\n",
    "plt.figure(figsize=(10, 5))\n",
    "plt.title('Intervalo de confiança')\n",
    "plt.xlabel('Probabilidade de acerto individual')\n",
    "plt.ylabel('Densidade da probabilidade')\n",
    "\n",
    "x = np.linspace(0,1,100)\n",
    "y = st.t.pdf(x, loc=media_probs, scale=desvio_probs, df=13 - 1)\n",
    "             \n",
    "plt.plot(x, y)\n",
    "print(intervalo_confianca)\n"
   ]
  }
 ],
 "metadata": {
  "kernelspec": {
   "display_name": ".venv",
   "language": "python",
   "name": "python3"
  },
  "language_info": {
   "codemirror_mode": {
    "name": "ipython",
    "version": 3
   },
   "file_extension": ".py",
   "mimetype": "text/x-python",
   "name": "python",
   "nbconvert_exporter": "python",
   "pygments_lexer": "ipython3",
   "version": "3.11.4"
  }
 },
 "nbformat": 4,
 "nbformat_minor": 2
}
